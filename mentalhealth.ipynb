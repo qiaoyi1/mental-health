{
 "cells": [
  {
   "cell_type": "code",
   "execution_count": 1,
   "id": "7dc0c502",
   "metadata": {},
   "outputs": [
    {
     "ename": "ModuleNotFoundError",
     "evalue": "No module named 'plotly'",
     "output_type": "error",
     "traceback": [
      "\u001b[1;31m---------------------------------------------------------------------------\u001b[0m",
      "\u001b[1;31mModuleNotFoundError\u001b[0m                       Traceback (most recent call last)",
      "\u001b[1;32m~\\AppData\\Local\\Temp\\ipykernel_4040\\1864068627.py\u001b[0m in \u001b[0;36m<module>\u001b[1;34m\u001b[0m\n\u001b[0;32m      7\u001b[0m \u001b[1;32mfrom\u001b[0m \u001b[0mpyod\u001b[0m\u001b[1;33m.\u001b[0m\u001b[0mmodels\u001b[0m\u001b[1;33m.\u001b[0m\u001b[0mlof\u001b[0m \u001b[1;32mimport\u001b[0m \u001b[0mLOF\u001b[0m\u001b[1;33m\u001b[0m\u001b[1;33m\u001b[0m\u001b[0m\n\u001b[0;32m      8\u001b[0m \u001b[1;32mfrom\u001b[0m \u001b[0mpyod\u001b[0m\u001b[1;33m.\u001b[0m\u001b[0mutils\u001b[0m\u001b[1;33m.\u001b[0m\u001b[0mdata\u001b[0m \u001b[1;32mimport\u001b[0m \u001b[0mgenerate_data\u001b[0m\u001b[1;33m\u001b[0m\u001b[1;33m\u001b[0m\u001b[0m\n\u001b[1;32m----> 9\u001b[1;33m \u001b[1;32mimport\u001b[0m \u001b[0mplotly\u001b[0m\u001b[1;33m.\u001b[0m\u001b[0mexpress\u001b[0m \u001b[1;32mas\u001b[0m \u001b[0mpx\u001b[0m\u001b[1;33m\u001b[0m\u001b[1;33m\u001b[0m\u001b[0m\n\u001b[0m\u001b[0;32m     10\u001b[0m \u001b[1;32mfrom\u001b[0m \u001b[0msklearn\u001b[0m\u001b[1;33m.\u001b[0m\u001b[0mensemble\u001b[0m \u001b[1;32mimport\u001b[0m \u001b[0mIsolationForest\u001b[0m\u001b[1;33m\u001b[0m\u001b[1;33m\u001b[0m\u001b[0m\n\u001b[0;32m     11\u001b[0m \u001b[1;32mimport\u001b[0m \u001b[0mpandas\u001b[0m \u001b[1;32mas\u001b[0m \u001b[0mpd\u001b[0m\u001b[1;33m\u001b[0m\u001b[1;33m\u001b[0m\u001b[0m\n",
      "\u001b[1;31mModuleNotFoundError\u001b[0m: No module named 'plotly'"
     ]
    }
   ],
   "source": [
    "import pandas as pd\n",
    "import matplotlib.pyplot as plt\n",
    "import numpy as np\n",
    "from sklearn.cluster import KMeans\n",
    "from scipy import stats\n",
    "from pyod.models.knn import KNN\n",
    "from pyod.models.lof import LOF\n",
    "from pyod.utils.data import generate_data\n",
    "import plotly.express as px\n",
    "from sklearn.ensemble import IsolationForest\n",
    "import pandas as pd\n",
    "import openpyxl\n",
    "import numpy as np\n",
    "\n",
    "df = pd.read_csv(\"newdata.csv\")\n",
    "estimator = KMeans(n_clusters=2, random_state=0)\n",
    "estimator.fit(df)\n",
    "label_pred = estimator.labels_\n",
    "df[label_pred ==1]\n",
    "\n",
    "clf_name = 'KNN'\n",
    "clf = KNN()\n",
    "clf.fit(df)\n",
    "y_train_pred = clf.labels_\n",
    "y_train_scores = clf.decision_scores_\n",
    "y_test_pred = clf.predict(df)\n",
    "y_test_scores = clf.decision_function(df)\n",
    "y_pred = pd.DataFrame(y_test_pred)\n",
    "y_scores = pd.DataFrame(y_test_scores)\n",
    "df[y_test_pred == 1]\n",
    "\n",
    "clf_name = 'LOF'\n",
    "clf = LOF()\n",
    "clf.fit(df)\n",
    "y_train_pred = clf.labels_\n",
    "y_train_scores = clf.decision_scores_\n",
    "y_test_pred = clf.predict(df)\n",
    "y_test_scores = clf.decision_function(df)\n",
    "y_pred = pd.DataFrame(y_test_pred)\n",
    "y_scores = pd.DataFrame(y_test_scores)\n",
    "df[y_test_pred == 1]\n",
    "\n",
    "data = pd.read_csv('newdata.csv')\n",
    "X = pd.read_csv('newdata.csv',usecols=['feature'])\n",
    "y = pd.read_csv('newdata.csv',usecols=['target'])\n",
    "iforest = IsolationForest(n_estimators=100, max_samples='auto',\n",
    "                         contamination='auto', max_features=9,\n",
    "                         bootstrap=False, n_jobs=-1, random_state=1)\n",
    "X = df.iloc(data['feature'])\n",
    "df = pd.DataFrame(data)\n",
    "df['label'] = iforest.fit_predict(X)\n",
    "df['scores'] = iforest.decision_function(X)"
   ]
  },
  {
   "cell_type": "code",
   "execution_count": null,
   "id": "5bcaceff",
   "metadata": {},
   "outputs": [],
   "source": []
  }
 ],
 "metadata": {
  "kernelspec": {
   "display_name": "python shixun",
   "language": "python",
   "name": "shixun"
  },
  "language_info": {
   "codemirror_mode": {
    "name": "ipython",
    "version": 3
   },
   "file_extension": ".py",
   "mimetype": "text/x-python",
   "name": "python",
   "nbconvert_exporter": "python",
   "pygments_lexer": "ipython3",
   "version": "3.7.13"
  }
 },
 "nbformat": 4,
 "nbformat_minor": 5
}
